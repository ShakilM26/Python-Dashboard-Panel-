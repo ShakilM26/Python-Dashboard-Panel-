{
 "cells": [
  {
   "cell_type": "code",
   "execution_count": null,
   "id": "b8a4150e",
   "metadata": {},
   "outputs": [],
   "source": []
  },
  {
   "cell_type": "code",
   "execution_count": 637,
   "id": "dbc90f83",
   "metadata": {},
   "outputs": [],
   "source": [
    "import pandas as pd\n",
    "import hvplot.pandas\n",
    "import panel as pn"
   ]
  },
  {
   "cell_type": "code",
   "execution_count": 638,
   "id": "d5dca837",
   "metadata": {},
   "outputs": [
    {
     "data": {
      "text/plain": [
       "Index(['Continent', 'Country', 'Quality of Life Index',\n",
       "       'Purchasing Power Index', 'Safety Index', 'Health Care Index',\n",
       "       'Cost of Living Index', 'Property Price to Income Ratio',\n",
       "       'Traffic Commute Time Index', 'Pollution Index', 'Climate Index'],\n",
       "      dtype='object')"
      ]
     },
     "execution_count": 638,
     "metadata": {},
     "output_type": "execute_result"
    }
   ],
   "source": [
    "df = pd.read_csv('G:\\\\UNfinished MOvie\\\\Tableau\\\\Dataset\\\\cost of living & quality of life.csv')\n",
    "df.columns"
   ]
  },
  {
   "cell_type": "code",
   "execution_count": null,
   "id": "e0baf68e-d50d-498c-8c56-049e2783d6c9",
   "metadata": {},
   "outputs": [],
   "source": []
  },
  {
   "cell_type": "code",
   "execution_count": 639,
   "id": "c7b33e8c-03b5-475d-a0cb-40cbff4d4242",
   "metadata": {},
   "outputs": [],
   "source": [
    "\n",
    "layout = pn.Column(\n",
    "    pn.Row(\n",
    "        pn.Spacer(width=600),\n",
    "        pn.Column(\n",
    "            pn.Spacer(height=50),\n",
    "            pn.Spacer(height=50)\n",
    "        ),\n",
    "        pn.Spacer(width=200)\n",
    "    ),\n",
    "    pn.Row(\n",
    "        pn.Spacer(width=100),\n",
    "        pn.Column(\n",
    "            pn.Spacer(height=50),\n",
    "            pn.Spacer(height=50)\n",
    "        ),\n",
    "        pn.Spacer(width=100)\n",
    "    ),\n",
    "    pn.Row(\n",
    "        pn.Spacer(width=100),\n",
    "        pn.Column(\n",
    "            pn.Spacer(height=50),\n",
    "            pn.Spacer(height=50)\n",
    "        ),\n",
    "        pn.Spacer(width=100)\n",
    "    ),\n",
    "    pn.Row(\n",
    "        pn.Spacer(width=100),\n",
    "        pn.Column(\n",
    "            pn.Spacer(height=50),\n",
    "            pn.Spacer(height=50)\n",
    "        ),\n",
    "        pn.Spacer(width=100)\n",
    "    )\n",
    ")"
   ]
  },
  {
   "cell_type": "code",
   "execution_count": null,
   "id": "db5e0d08",
   "metadata": {},
   "outputs": [],
   "source": []
  },
  {
   "cell_type": "code",
   "execution_count": 640,
   "id": "5e769920-9fab-4a4d-b1c1-8db3756221c1",
   "metadata": {},
   "outputs": [
    {
     "data": {},
     "metadata": {},
     "output_type": "display_data"
    },
    {
     "data": {
      "application/vnd.holoviews_exec.v0+json": "",
      "text/html": [
       "<div id='43662'>\n",
       "  <div class=\"bk-root\" id=\"06a0968a-ebcc-433e-ae35-4ea63d04f0dc\" data-root-id=\"43662\"></div>\n",
       "</div>\n",
       "<script type=\"application/javascript\">(function(root) {\n",
       "  function embed_document(root) {\n",
       "    var docs_json = {\"e2a79699-b8db-4db5-9b9e-3776af3cc4f9\":{\"defs\":[{\"extends\":null,\"module\":null,\"name\":\"ReactiveHTML1\",\"overrides\":[],\"properties\":[]},{\"extends\":null,\"module\":null,\"name\":\"FlexBox1\",\"overrides\":[],\"properties\":[{\"default\":\"flex-start\",\"kind\":null,\"name\":\"align_content\"},{\"default\":\"flex-start\",\"kind\":null,\"name\":\"align_items\"},{\"default\":\"row\",\"kind\":null,\"name\":\"flex_direction\"},{\"default\":\"wrap\",\"kind\":null,\"name\":\"flex_wrap\"},{\"default\":\"flex-start\",\"kind\":null,\"name\":\"justify_content\"}]},{\"extends\":null,\"module\":null,\"name\":\"GridStack1\",\"overrides\":[],\"properties\":[{\"default\":\"warn\",\"kind\":null,\"name\":\"mode\"},{\"default\":null,\"kind\":null,\"name\":\"ncols\"},{\"default\":null,\"kind\":null,\"name\":\"nrows\"},{\"default\":true,\"kind\":null,\"name\":\"allow_resize\"},{\"default\":true,\"kind\":null,\"name\":\"allow_drag\"},{\"default\":[],\"kind\":null,\"name\":\"state\"}]},{\"extends\":null,\"module\":null,\"name\":\"click1\",\"overrides\":[],\"properties\":[{\"default\":\"\",\"kind\":null,\"name\":\"terminal_output\"},{\"default\":\"\",\"kind\":null,\"name\":\"debug_name\"},{\"default\":0,\"kind\":null,\"name\":\"clears\"}]},{\"extends\":null,\"module\":null,\"name\":\"NotificationAreaBase1\",\"overrides\":[],\"properties\":[{\"default\":\"bottom-right\",\"kind\":null,\"name\":\"position\"},{\"default\":0,\"kind\":null,\"name\":\"_clear\"}]},{\"extends\":null,\"module\":null,\"name\":\"NotificationArea1\",\"overrides\":[],\"properties\":[{\"default\":[],\"kind\":null,\"name\":\"notifications\"},{\"default\":\"bottom-right\",\"kind\":null,\"name\":\"position\"},{\"default\":0,\"kind\":null,\"name\":\"_clear\"},{\"default\":[{\"background\":\"#ffc107\",\"icon\":{\"className\":\"fas fa-exclamation-triangle\",\"color\":\"white\",\"tagName\":\"i\"},\"type\":\"warning\"},{\"background\":\"#007bff\",\"icon\":{\"className\":\"fas fa-info-circle\",\"color\":\"white\",\"tagName\":\"i\"},\"type\":\"info\"}],\"kind\":null,\"name\":\"types\"}]},{\"extends\":null,\"module\":null,\"name\":\"Notification\",\"overrides\":[],\"properties\":[{\"default\":null,\"kind\":null,\"name\":\"background\"},{\"default\":3000,\"kind\":null,\"name\":\"duration\"},{\"default\":null,\"kind\":null,\"name\":\"icon\"},{\"default\":\"\",\"kind\":null,\"name\":\"message\"},{\"default\":null,\"kind\":null,\"name\":\"notification_type\"},{\"default\":false,\"kind\":null,\"name\":\"_destroyed\"}]},{\"extends\":null,\"module\":null,\"name\":\"TemplateActions1\",\"overrides\":[],\"properties\":[{\"default\":0,\"kind\":null,\"name\":\"open_modal\"},{\"default\":0,\"kind\":null,\"name\":\"close_modal\"}]},{\"extends\":null,\"module\":null,\"name\":\"MaterialTemplateActions1\",\"overrides\":[],\"properties\":[{\"default\":0,\"kind\":null,\"name\":\"open_modal\"},{\"default\":0,\"kind\":null,\"name\":\"close_modal\"}]}],\"roots\":{\"references\":[{\"attributes\":{\"axis\":{\"id\":\"43679\"},\"coordinates\":null,\"dimension\":1,\"grid_line_color\":null,\"group\":null,\"ticker\":null},\"id\":\"43682\",\"type\":\"Grid\"},{\"attributes\":{},\"id\":\"43683\",\"type\":\"SaveTool\"},{\"attributes\":{},\"id\":\"43706\",\"type\":\"CategoricalTickFormatter\"},{\"attributes\":{},\"id\":\"43684\",\"type\":\"PanTool\"},{\"attributes\":{},\"id\":\"43709\",\"type\":\"BasicTickFormatter\"},{\"attributes\":{},\"id\":\"43718\",\"type\":\"UnionRenderers\"},{\"attributes\":{\"callback\":null,\"renderers\":[{\"id\":\"43702\"}],\"tags\":[\"hv_created\"],\"tooltips\":[[\"Country\",\"@{Country}\"],[\"Quality of Life Index\",\"@{Quality_of_Life_Index}\"]]},\"id\":\"43666\",\"type\":\"HoverTool\"},{\"attributes\":{\"tools\":[{\"id\":\"43666\"},{\"id\":\"43683\"},{\"id\":\"43684\"},{\"id\":\"43685\"},{\"id\":\"43686\"},{\"id\":\"43687\"}]},\"id\":\"43689\",\"type\":\"Toolbar\"},{\"attributes\":{},\"id\":\"43680\",\"type\":\"BasicTicker\"},{\"attributes\":{},\"id\":\"43685\",\"type\":\"WheelZoomTool\"},{\"attributes\":{\"axis\":{\"id\":\"43676\"},\"coordinates\":null,\"grid_line_color\":null,\"group\":null,\"ticker\":null},\"id\":\"43678\",\"type\":\"Grid\"},{\"attributes\":{\"fill_alpha\":{\"value\":0.2},\"fill_color\":{\"value\":\"#30a2da\"},\"hatch_alpha\":{\"value\":0.2},\"hatch_color\":{\"value\":\"#30a2da\"},\"line_alpha\":{\"value\":0.2},\"top\":{\"field\":\"Quality_of_Life_Index\"},\"width\":{\"value\":0.8},\"x\":{\"field\":\"Country\"}},\"id\":\"43701\",\"type\":\"VBar\"},{\"attributes\":{\"fill_alpha\":{\"value\":0.1},\"fill_color\":{\"value\":\"#30a2da\"},\"hatch_alpha\":{\"value\":0.1},\"hatch_color\":{\"value\":\"#30a2da\"},\"line_alpha\":{\"value\":0.1},\"top\":{\"field\":\"Quality_of_Life_Index\"},\"width\":{\"value\":0.8},\"x\":{\"field\":\"Country\"}},\"id\":\"43700\",\"type\":\"VBar\"},{\"attributes\":{\"margin\":[5,5,5,5],\"name\":\"HSpacer27276\",\"sizing_mode\":\"stretch_width\"},\"id\":\"43721\",\"type\":\"Spacer\"},{\"attributes\":{},\"id\":\"43674\",\"type\":\"LinearScale\"},{\"attributes\":{\"coordinates\":null,\"group\":null,\"text\":\"Quality of Life Index\",\"text_color\":\"black\",\"text_font_size\":\"12pt\"},\"id\":\"43668\",\"type\":\"Title\"},{\"attributes\":{\"axis_label\":\"Quality of Life Index\",\"coordinates\":null,\"formatter\":{\"id\":\"43709\"},\"group\":null,\"major_label_policy\":{\"id\":\"43710\"},\"ticker\":{\"id\":\"43680\"}},\"id\":\"43679\",\"type\":\"LinearAxis\"},{\"attributes\":{\"children\":[{\"id\":\"43663\"},{\"id\":\"43667\"},{\"id\":\"43721\"}],\"margin\":[0,0,0,0],\"name\":\"Row27271\",\"tags\":[\"embedded\"]},\"id\":\"43662\",\"type\":\"Row\"},{\"attributes\":{\"margin\":[5,5,5,5],\"name\":\"HSpacer27275\",\"sizing_mode\":\"stretch_width\"},\"id\":\"43663\",\"type\":\"Spacer\"},{\"attributes\":{\"overlay\":{\"id\":\"43688\"}},\"id\":\"43686\",\"type\":\"BoxZoomTool\"},{\"attributes\":{},\"id\":\"43672\",\"type\":\"CategoricalScale\"},{\"attributes\":{\"source\":{\"id\":\"43696\"}},\"id\":\"43703\",\"type\":\"CDSView\"},{\"attributes\":{\"below\":[{\"id\":\"43676\"}],\"center\":[{\"id\":\"43678\"},{\"id\":\"43682\"}],\"height\":300,\"left\":[{\"id\":\"43679\"}],\"margin\":[5,5,5,5],\"min_border_bottom\":10,\"min_border_left\":10,\"min_border_right\":10,\"min_border_top\":10,\"renderers\":[{\"id\":\"43702\"}],\"sizing_mode\":\"fixed\",\"title\":{\"id\":\"43668\"},\"toolbar\":{\"id\":\"43689\"},\"width\":450,\"x_range\":{\"id\":\"43664\"},\"x_scale\":{\"id\":\"43672\"},\"y_range\":{\"id\":\"43665\"},\"y_scale\":{\"id\":\"43674\"}},\"id\":\"43667\",\"subtype\":\"Figure\",\"type\":\"Plot\"},{\"attributes\":{},\"id\":\"43687\",\"type\":\"ResetTool\"},{\"attributes\":{},\"id\":\"43710\",\"type\":\"AllLabels\"},{\"attributes\":{\"fill_color\":{\"value\":\"#30a2da\"},\"hatch_color\":{\"value\":\"#30a2da\"},\"top\":{\"field\":\"Quality_of_Life_Index\"},\"width\":{\"value\":0.8},\"x\":{\"field\":\"Country\"}},\"id\":\"43699\",\"type\":\"VBar\"},{\"attributes\":{\"end\":197.19,\"reset_end\":197.19,\"reset_start\":0.0,\"tags\":[[[\"Quality of Life Index\",\"Quality of Life Index\",null]]]},\"id\":\"43665\",\"type\":\"Range1d\"},{\"attributes\":{\"bottom_units\":\"screen\",\"coordinates\":null,\"fill_alpha\":0.5,\"fill_color\":\"lightgrey\",\"group\":null,\"left_units\":\"screen\",\"level\":\"overlay\",\"line_alpha\":1.0,\"line_color\":\"black\",\"line_dash\":[4,4],\"line_width\":2,\"right_units\":\"screen\",\"syncable\":false,\"top_units\":\"screen\"},\"id\":\"43688\",\"type\":\"BoxAnnotation\"},{\"attributes\":{},\"id\":\"43697\",\"type\":\"Selection\"},{\"attributes\":{\"axis_label\":\"Country\",\"coordinates\":null,\"formatter\":{\"id\":\"43706\"},\"group\":null,\"major_label_orientation\":0.7853981633974483,\"major_label_policy\":{\"id\":\"43707\"},\"ticker\":{\"id\":\"43677\"}},\"id\":\"43676\",\"type\":\"CategoricalAxis\"},{\"attributes\":{\"bottom\":{\"value\":0},\"fill_alpha\":{\"value\":1.0},\"fill_color\":{\"value\":\"#30a2da\"},\"hatch_alpha\":{\"value\":1.0},\"hatch_color\":{\"value\":\"#30a2da\"},\"hatch_scale\":{\"value\":12.0},\"hatch_weight\":{\"value\":1.0},\"line_alpha\":{\"value\":1.0},\"line_cap\":{\"value\":\"butt\"},\"line_color\":{\"value\":\"black\"},\"line_dash\":{\"value\":[]},\"line_dash_offset\":{\"value\":0},\"line_join\":{\"value\":\"bevel\"},\"line_width\":{\"value\":1},\"top\":{\"field\":\"Quality_of_Life_Index\"},\"width\":{\"value\":0.8},\"x\":{\"field\":\"Country\"}},\"id\":\"43704\",\"type\":\"VBar\"},{\"attributes\":{},\"id\":\"43707\",\"type\":\"AllLabels\"},{\"attributes\":{},\"id\":\"43677\",\"type\":\"CategoricalTicker\"},{\"attributes\":{\"data\":{\"Country\":[\"Switzerland\",\"Denmark\",\"Netherlands\",\"Finland\",\"Iceland\",\"Norway\",\"Germany\",\"Austria\",\"Estonia\",\"Luxembourg\"],\"Quality_of_Life_Index\":{\"__ndarray__\":\"UrgehethaEDNzMzMzERoQB+F61G47mdAexSuR+FaZ0CPwvUoXA9nQFyPwvUodGZACtejcD1KZkBSuB6F60FmQMP1KFyPumVAuB6F61G4ZUA=\",\"dtype\":\"float64\",\"order\":\"little\",\"shape\":[10]}},\"selected\":{\"id\":\"43697\"},\"selection_policy\":{\"id\":\"43718\"}},\"id\":\"43696\",\"type\":\"ColumnDataSource\"},{\"attributes\":{\"factors\":[\"Switzerland\",\"Denmark\",\"Netherlands\",\"Finland\",\"Iceland\",\"Norway\",\"Germany\",\"Austria\",\"Estonia\",\"Luxembourg\"],\"tags\":[[[\"Country\",\"Country\",null]]]},\"id\":\"43664\",\"type\":\"FactorRange\"},{\"attributes\":{\"coordinates\":null,\"data_source\":{\"id\":\"43696\"},\"glyph\":{\"id\":\"43699\"},\"group\":null,\"hover_glyph\":null,\"muted_glyph\":{\"id\":\"43701\"},\"nonselection_glyph\":{\"id\":\"43700\"},\"selection_glyph\":{\"id\":\"43704\"},\"view\":{\"id\":\"43703\"}},\"id\":\"43702\",\"type\":\"GlyphRenderer\"}],\"root_ids\":[\"43662\"]},\"title\":\"Bokeh Application\",\"version\":\"2.4.3\"}};\n",
       "    var render_items = [{\"docid\":\"e2a79699-b8db-4db5-9b9e-3776af3cc4f9\",\"root_ids\":[\"43662\"],\"roots\":{\"43662\":\"06a0968a-ebcc-433e-ae35-4ea63d04f0dc\"}}];\n",
       "    root.Bokeh.embed.embed_items_notebook(docs_json, render_items);\n",
       "    for (const render_item of render_items) {\n",
       "      for (const root_id of render_item.root_ids) {\n",
       "\tconst id_el = document.getElementById(root_id)\n",
       "\tif (id_el.children.length && (id_el.children[0].className === 'bk-root')) {\n",
       "\t  const root_el = id_el.children[0]\n",
       "\t  root_el.id = root_el.id + '-rendered'\n",
       "\t}\n",
       "      }\n",
       "    }\n",
       "  }\n",
       "  if (root.Bokeh !== undefined && root.Bokeh.Panel !== undefined) {\n",
       "    embed_document(root);\n",
       "  } else {\n",
       "    var attempts = 0;\n",
       "    var timer = setInterval(function(root) {\n",
       "      if (root.Bokeh !== undefined && root.Bokeh.Panel !== undefined) {\n",
       "        clearInterval(timer);\n",
       "        embed_document(root);\n",
       "      } else if (document.readyState == \"complete\") {\n",
       "        attempts++;\n",
       "        if (attempts > 200) {\n",
       "          clearInterval(timer);\n",
       "          console.log(\"Bokeh: ERROR: Unable to run BokehJS code because BokehJS library is missing\");\n",
       "        }\n",
       "      }\n",
       "    }, 25, root)\n",
       "  }\n",
       "})(window);</script>"
      ],
      "text/plain": [
       ":Bars   [Country]   (Quality of Life Index)"
      ]
     },
     "execution_count": 640,
     "metadata": {
      "application/vnd.holoviews_exec.v0+json": {
       "id": "43662"
      }
     },
     "output_type": "execute_result"
    }
   ],
   "source": [
    "Quality_of_Life_Index = df.head(10).hvplot.bar(x='Country', y='Quality of Life Index', title='Quality of Life Index', \n",
    "                                                  rot=45,height=300, width=450)\n",
    "Quality_of_Life_Index"
   ]
  },
  {
   "cell_type": "code",
   "execution_count": 641,
   "id": "d7f97fa6-8cfe-4e48-b294-512239ce3c4f",
   "metadata": {},
   "outputs": [
    {
     "data": {},
     "metadata": {},
     "output_type": "display_data"
    },
    {
     "data": {
      "application/vnd.holoviews_exec.v0+json": "",
      "text/html": [
       "<div id='43773'>\n",
       "  <div class=\"bk-root\" id=\"dd7df0b8-6781-4abb-b942-c1c7dc691fe2\" data-root-id=\"43773\"></div>\n",
       "</div>\n",
       "<script type=\"application/javascript\">(function(root) {\n",
       "  function embed_document(root) {\n",
       "    var docs_json = {\"732b83ae-d4a7-4654-a69d-eca1d5c104af\":{\"defs\":[{\"extends\":null,\"module\":null,\"name\":\"ReactiveHTML1\",\"overrides\":[],\"properties\":[]},{\"extends\":null,\"module\":null,\"name\":\"FlexBox1\",\"overrides\":[],\"properties\":[{\"default\":\"flex-start\",\"kind\":null,\"name\":\"align_content\"},{\"default\":\"flex-start\",\"kind\":null,\"name\":\"align_items\"},{\"default\":\"row\",\"kind\":null,\"name\":\"flex_direction\"},{\"default\":\"wrap\",\"kind\":null,\"name\":\"flex_wrap\"},{\"default\":\"flex-start\",\"kind\":null,\"name\":\"justify_content\"}]},{\"extends\":null,\"module\":null,\"name\":\"GridStack1\",\"overrides\":[],\"properties\":[{\"default\":\"warn\",\"kind\":null,\"name\":\"mode\"},{\"default\":null,\"kind\":null,\"name\":\"ncols\"},{\"default\":null,\"kind\":null,\"name\":\"nrows\"},{\"default\":true,\"kind\":null,\"name\":\"allow_resize\"},{\"default\":true,\"kind\":null,\"name\":\"allow_drag\"},{\"default\":[],\"kind\":null,\"name\":\"state\"}]},{\"extends\":null,\"module\":null,\"name\":\"click1\",\"overrides\":[],\"properties\":[{\"default\":\"\",\"kind\":null,\"name\":\"terminal_output\"},{\"default\":\"\",\"kind\":null,\"name\":\"debug_name\"},{\"default\":0,\"kind\":null,\"name\":\"clears\"}]},{\"extends\":null,\"module\":null,\"name\":\"NotificationAreaBase1\",\"overrides\":[],\"properties\":[{\"default\":\"bottom-right\",\"kind\":null,\"name\":\"position\"},{\"default\":0,\"kind\":null,\"name\":\"_clear\"}]},{\"extends\":null,\"module\":null,\"name\":\"NotificationArea1\",\"overrides\":[],\"properties\":[{\"default\":[],\"kind\":null,\"name\":\"notifications\"},{\"default\":\"bottom-right\",\"kind\":null,\"name\":\"position\"},{\"default\":0,\"kind\":null,\"name\":\"_clear\"},{\"default\":[{\"background\":\"#ffc107\",\"icon\":{\"className\":\"fas fa-exclamation-triangle\",\"color\":\"white\",\"tagName\":\"i\"},\"type\":\"warning\"},{\"background\":\"#007bff\",\"icon\":{\"className\":\"fas fa-info-circle\",\"color\":\"white\",\"tagName\":\"i\"},\"type\":\"info\"}],\"kind\":null,\"name\":\"types\"}]},{\"extends\":null,\"module\":null,\"name\":\"Notification\",\"overrides\":[],\"properties\":[{\"default\":null,\"kind\":null,\"name\":\"background\"},{\"default\":3000,\"kind\":null,\"name\":\"duration\"},{\"default\":null,\"kind\":null,\"name\":\"icon\"},{\"default\":\"\",\"kind\":null,\"name\":\"message\"},{\"default\":null,\"kind\":null,\"name\":\"notification_type\"},{\"default\":false,\"kind\":null,\"name\":\"_destroyed\"}]},{\"extends\":null,\"module\":null,\"name\":\"TemplateActions1\",\"overrides\":[],\"properties\":[{\"default\":0,\"kind\":null,\"name\":\"open_modal\"},{\"default\":0,\"kind\":null,\"name\":\"close_modal\"}]},{\"extends\":null,\"module\":null,\"name\":\"MaterialTemplateActions1\",\"overrides\":[],\"properties\":[{\"default\":0,\"kind\":null,\"name\":\"open_modal\"},{\"default\":0,\"kind\":null,\"name\":\"close_modal\"}]}],\"roots\":{\"references\":[{\"attributes\":{\"axis_label\":\"Country\",\"coordinates\":null,\"formatter\":{\"id\":\"43817\"},\"group\":null,\"major_label_orientation\":0.7853981633974483,\"major_label_policy\":{\"id\":\"43818\"},\"ticker\":{\"id\":\"43788\"}},\"id\":\"43787\",\"type\":\"CategoricalAxis\"},{\"attributes\":{},\"id\":\"43783\",\"type\":\"CategoricalScale\"},{\"attributes\":{\"bottom_units\":\"screen\",\"coordinates\":null,\"fill_alpha\":0.5,\"fill_color\":\"lightgrey\",\"group\":null,\"left_units\":\"screen\",\"level\":\"overlay\",\"line_alpha\":1.0,\"line_color\":\"black\",\"line_dash\":[4,4],\"line_width\":2,\"right_units\":\"screen\",\"syncable\":false,\"top_units\":\"screen\"},\"id\":\"43799\",\"type\":\"BoxAnnotation\"},{\"attributes\":{},\"id\":\"43791\",\"type\":\"BasicTicker\"},{\"attributes\":{},\"id\":\"43829\",\"type\":\"UnionRenderers\"},{\"attributes\":{\"coordinates\":null,\"group\":null,\"text\":\"Salary by Job Title\",\"text_color\":\"black\",\"text_font_size\":\"12pt\"},\"id\":\"43779\",\"type\":\"Title\"},{\"attributes\":{\"overlay\":{\"id\":\"43799\"}},\"id\":\"43797\",\"type\":\"BoxZoomTool\"},{\"attributes\":{},\"id\":\"43817\",\"type\":\"CategoricalTickFormatter\"},{\"attributes\":{\"axis\":{\"id\":\"43790\"},\"coordinates\":null,\"dimension\":1,\"grid_line_color\":null,\"group\":null,\"ticker\":null},\"id\":\"43793\",\"type\":\"Grid\"},{\"attributes\":{},\"id\":\"43818\",\"type\":\"AllLabels\"},{\"attributes\":{\"end\":116.427,\"reset_end\":116.427,\"reset_start\":0.0,\"tags\":[[[\"Cost of Living Index\",\"Cost of Living Index\",null]]]},\"id\":\"43776\",\"type\":\"Range1d\"},{\"attributes\":{},\"id\":\"43796\",\"type\":\"WheelZoomTool\"},{\"attributes\":{},\"id\":\"43820\",\"type\":\"BasicTickFormatter\"},{\"attributes\":{\"tools\":[{\"id\":\"43777\"},{\"id\":\"43794\"},{\"id\":\"43795\"},{\"id\":\"43796\"},{\"id\":\"43797\"},{\"id\":\"43798\"}]},\"id\":\"43800\",\"type\":\"Toolbar\"},{\"attributes\":{\"fill_alpha\":{\"value\":0.1},\"fill_color\":{\"value\":\"#30a2da\"},\"hatch_alpha\":{\"value\":0.1},\"hatch_color\":{\"value\":\"#30a2da\"},\"line_alpha\":{\"value\":0.1},\"top\":{\"field\":\"Cost_of_Living_Index\"},\"width\":{\"value\":0.8},\"x\":{\"field\":\"Country\"}},\"id\":\"43811\",\"type\":\"VBar\"},{\"attributes\":{\"below\":[{\"id\":\"43787\"}],\"center\":[{\"id\":\"43789\"},{\"id\":\"43793\"}],\"height\":300,\"left\":[{\"id\":\"43790\"}],\"margin\":[5,5,5,5],\"min_border_bottom\":10,\"min_border_left\":10,\"min_border_right\":10,\"min_border_top\":10,\"renderers\":[{\"id\":\"43813\"}],\"sizing_mode\":\"fixed\",\"title\":{\"id\":\"43779\"},\"toolbar\":{\"id\":\"43800\"},\"width\":450,\"x_range\":{\"id\":\"43775\"},\"x_scale\":{\"id\":\"43783\"},\"y_range\":{\"id\":\"43776\"},\"y_scale\":{\"id\":\"43785\"}},\"id\":\"43778\",\"subtype\":\"Figure\",\"type\":\"Plot\"},{\"attributes\":{\"data\":{\"Cost_of_Living_Index\":{\"__ndarray__\":\"9ihcj8KVW0D2KFyPwkVSQD0K16Nw7VBAAAAAAADgT0D2KFyPwqVVQOxRuB6Fe1VAj8L1KFzPTUDXo3A9CgdQQFyPwvUovEhAmpmZmZkJUkA=\",\"dtype\":\"float64\",\"order\":\"little\",\"shape\":[10]},\"Country\":[\"Switzerland\",\"Denmark\",\"Netherlands\",\"Finland\",\"Iceland\",\"Norway\",\"Germany\",\"Austria\",\"Estonia\",\"Luxembourg\"]},\"selected\":{\"id\":\"43808\"},\"selection_policy\":{\"id\":\"43829\"}},\"id\":\"43807\",\"type\":\"ColumnDataSource\"},{\"attributes\":{\"margin\":[5,5,5,5],\"name\":\"HSpacer27390\",\"sizing_mode\":\"stretch_width\"},\"id\":\"43832\",\"type\":\"Spacer\"},{\"attributes\":{},\"id\":\"43795\",\"type\":\"PanTool\"},{\"attributes\":{\"axis_label\":\"Cost of Living Index\",\"coordinates\":null,\"formatter\":{\"id\":\"43820\"},\"group\":null,\"major_label_policy\":{\"id\":\"43821\"},\"ticker\":{\"id\":\"43791\"}},\"id\":\"43790\",\"type\":\"LinearAxis\"},{\"attributes\":{\"fill_alpha\":{\"value\":0.2},\"fill_color\":{\"value\":\"#30a2da\"},\"hatch_alpha\":{\"value\":0.2},\"hatch_color\":{\"value\":\"#30a2da\"},\"line_alpha\":{\"value\":0.2},\"top\":{\"field\":\"Cost_of_Living_Index\"},\"width\":{\"value\":0.8},\"x\":{\"field\":\"Country\"}},\"id\":\"43812\",\"type\":\"VBar\"},{\"attributes\":{},\"id\":\"43821\",\"type\":\"AllLabels\"},{\"attributes\":{\"axis\":{\"id\":\"43787\"},\"coordinates\":null,\"grid_line_color\":null,\"group\":null,\"ticker\":null},\"id\":\"43789\",\"type\":\"Grid\"},{\"attributes\":{},\"id\":\"43788\",\"type\":\"CategoricalTicker\"},{\"attributes\":{},\"id\":\"43785\",\"type\":\"LinearScale\"},{\"attributes\":{\"fill_color\":{\"value\":\"#30a2da\"},\"hatch_color\":{\"value\":\"#30a2da\"},\"top\":{\"field\":\"Cost_of_Living_Index\"},\"width\":{\"value\":0.8},\"x\":{\"field\":\"Country\"}},\"id\":\"43810\",\"type\":\"VBar\"},{\"attributes\":{\"children\":[{\"id\":\"43774\"},{\"id\":\"43778\"},{\"id\":\"43832\"}],\"margin\":[0,0,0,0],\"name\":\"Row27385\",\"tags\":[\"embedded\"]},\"id\":\"43773\",\"type\":\"Row\"},{\"attributes\":{},\"id\":\"43798\",\"type\":\"ResetTool\"},{\"attributes\":{},\"id\":\"43808\",\"type\":\"Selection\"},{\"attributes\":{\"factors\":[\"Switzerland\",\"Denmark\",\"Netherlands\",\"Finland\",\"Iceland\",\"Norway\",\"Germany\",\"Austria\",\"Estonia\",\"Luxembourg\"],\"tags\":[[[\"Country\",\"Country\",null]]]},\"id\":\"43775\",\"type\":\"FactorRange\"},{\"attributes\":{\"coordinates\":null,\"data_source\":{\"id\":\"43807\"},\"glyph\":{\"id\":\"43810\"},\"group\":null,\"hover_glyph\":null,\"muted_glyph\":{\"id\":\"43812\"},\"nonselection_glyph\":{\"id\":\"43811\"},\"selection_glyph\":{\"id\":\"43815\"},\"view\":{\"id\":\"43814\"}},\"id\":\"43813\",\"type\":\"GlyphRenderer\"},{\"attributes\":{\"margin\":[5,5,5,5],\"name\":\"HSpacer27389\",\"sizing_mode\":\"stretch_width\"},\"id\":\"43774\",\"type\":\"Spacer\"},{\"attributes\":{\"bottom\":{\"value\":0},\"fill_alpha\":{\"value\":1.0},\"fill_color\":{\"value\":\"#30a2da\"},\"hatch_alpha\":{\"value\":1.0},\"hatch_color\":{\"value\":\"#30a2da\"},\"hatch_scale\":{\"value\":12.0},\"hatch_weight\":{\"value\":1.0},\"line_alpha\":{\"value\":1.0},\"line_cap\":{\"value\":\"butt\"},\"line_color\":{\"value\":\"black\"},\"line_dash\":{\"value\":[]},\"line_dash_offset\":{\"value\":0},\"line_join\":{\"value\":\"bevel\"},\"line_width\":{\"value\":1},\"top\":{\"field\":\"Cost_of_Living_Index\"},\"width\":{\"value\":0.8},\"x\":{\"field\":\"Country\"}},\"id\":\"43815\",\"type\":\"VBar\"},{\"attributes\":{},\"id\":\"43794\",\"type\":\"SaveTool\"},{\"attributes\":{\"callback\":null,\"renderers\":[{\"id\":\"43813\"}],\"tags\":[\"hv_created\"],\"tooltips\":[[\"Country\",\"@{Country}\"],[\"Cost of Living Index\",\"@{Cost_of_Living_Index}\"]]},\"id\":\"43777\",\"type\":\"HoverTool\"},{\"attributes\":{\"source\":{\"id\":\"43807\"}},\"id\":\"43814\",\"type\":\"CDSView\"}],\"root_ids\":[\"43773\"]},\"title\":\"Bokeh Application\",\"version\":\"2.4.3\"}};\n",
       "    var render_items = [{\"docid\":\"732b83ae-d4a7-4654-a69d-eca1d5c104af\",\"root_ids\":[\"43773\"],\"roots\":{\"43773\":\"dd7df0b8-6781-4abb-b942-c1c7dc691fe2\"}}];\n",
       "    root.Bokeh.embed.embed_items_notebook(docs_json, render_items);\n",
       "    for (const render_item of render_items) {\n",
       "      for (const root_id of render_item.root_ids) {\n",
       "\tconst id_el = document.getElementById(root_id)\n",
       "\tif (id_el.children.length && (id_el.children[0].className === 'bk-root')) {\n",
       "\t  const root_el = id_el.children[0]\n",
       "\t  root_el.id = root_el.id + '-rendered'\n",
       "\t}\n",
       "      }\n",
       "    }\n",
       "  }\n",
       "  if (root.Bokeh !== undefined && root.Bokeh.Panel !== undefined) {\n",
       "    embed_document(root);\n",
       "  } else {\n",
       "    var attempts = 0;\n",
       "    var timer = setInterval(function(root) {\n",
       "      if (root.Bokeh !== undefined && root.Bokeh.Panel !== undefined) {\n",
       "        clearInterval(timer);\n",
       "        embed_document(root);\n",
       "      } else if (document.readyState == \"complete\") {\n",
       "        attempts++;\n",
       "        if (attempts > 200) {\n",
       "          clearInterval(timer);\n",
       "          console.log(\"Bokeh: ERROR: Unable to run BokehJS code because BokehJS library is missing\");\n",
       "        }\n",
       "      }\n",
       "    }, 25, root)\n",
       "  }\n",
       "})(window);</script>"
      ],
      "text/plain": [
       ":Bars   [Country]   (Cost of Living Index)"
      ]
     },
     "execution_count": 641,
     "metadata": {
      "application/vnd.holoviews_exec.v0+json": {
       "id": "43773"
      }
     },
     "output_type": "execute_result"
    }
   ],
   "source": [
    "Cost_of_Living_Index = df.head(10).hvplot.bar(x='Country', y='Cost of Living Index', title='Salary by Job Title',\n",
    "                                                 rot=45,height=300, width=450)\n",
    "Cost_of_Living_Index"
   ]
  },
  {
   "cell_type": "code",
   "execution_count": 642,
   "id": "becdde11-9f4b-4985-8b37-c5ac1ccbe020",
   "metadata": {},
   "outputs": [
    {
     "data": {},
     "metadata": {},
     "output_type": "display_data"
    },
    {
     "data": {
      "application/vnd.holoviews_exec.v0+json": "",
      "text/html": [
       "<div id='43884'>\n",
       "  <div class=\"bk-root\" id=\"e0152984-1ed7-4bd2-ab29-dd3c9fe28096\" data-root-id=\"43884\"></div>\n",
       "</div>\n",
       "<script type=\"application/javascript\">(function(root) {\n",
       "  function embed_document(root) {\n",
       "    var docs_json = {\"96fe13b1-e693-48e8-b46e-b10d712876d6\":{\"defs\":[{\"extends\":null,\"module\":null,\"name\":\"ReactiveHTML1\",\"overrides\":[],\"properties\":[]},{\"extends\":null,\"module\":null,\"name\":\"FlexBox1\",\"overrides\":[],\"properties\":[{\"default\":\"flex-start\",\"kind\":null,\"name\":\"align_content\"},{\"default\":\"flex-start\",\"kind\":null,\"name\":\"align_items\"},{\"default\":\"row\",\"kind\":null,\"name\":\"flex_direction\"},{\"default\":\"wrap\",\"kind\":null,\"name\":\"flex_wrap\"},{\"default\":\"flex-start\",\"kind\":null,\"name\":\"justify_content\"}]},{\"extends\":null,\"module\":null,\"name\":\"GridStack1\",\"overrides\":[],\"properties\":[{\"default\":\"warn\",\"kind\":null,\"name\":\"mode\"},{\"default\":null,\"kind\":null,\"name\":\"ncols\"},{\"default\":null,\"kind\":null,\"name\":\"nrows\"},{\"default\":true,\"kind\":null,\"name\":\"allow_resize\"},{\"default\":true,\"kind\":null,\"name\":\"allow_drag\"},{\"default\":[],\"kind\":null,\"name\":\"state\"}]},{\"extends\":null,\"module\":null,\"name\":\"click1\",\"overrides\":[],\"properties\":[{\"default\":\"\",\"kind\":null,\"name\":\"terminal_output\"},{\"default\":\"\",\"kind\":null,\"name\":\"debug_name\"},{\"default\":0,\"kind\":null,\"name\":\"clears\"}]},{\"extends\":null,\"module\":null,\"name\":\"NotificationAreaBase1\",\"overrides\":[],\"properties\":[{\"default\":\"bottom-right\",\"kind\":null,\"name\":\"position\"},{\"default\":0,\"kind\":null,\"name\":\"_clear\"}]},{\"extends\":null,\"module\":null,\"name\":\"NotificationArea1\",\"overrides\":[],\"properties\":[{\"default\":[],\"kind\":null,\"name\":\"notifications\"},{\"default\":\"bottom-right\",\"kind\":null,\"name\":\"position\"},{\"default\":0,\"kind\":null,\"name\":\"_clear\"},{\"default\":[{\"background\":\"#ffc107\",\"icon\":{\"className\":\"fas fa-exclamation-triangle\",\"color\":\"white\",\"tagName\":\"i\"},\"type\":\"warning\"},{\"background\":\"#007bff\",\"icon\":{\"className\":\"fas fa-info-circle\",\"color\":\"white\",\"tagName\":\"i\"},\"type\":\"info\"}],\"kind\":null,\"name\":\"types\"}]},{\"extends\":null,\"module\":null,\"name\":\"Notification\",\"overrides\":[],\"properties\":[{\"default\":null,\"kind\":null,\"name\":\"background\"},{\"default\":3000,\"kind\":null,\"name\":\"duration\"},{\"default\":null,\"kind\":null,\"name\":\"icon\"},{\"default\":\"\",\"kind\":null,\"name\":\"message\"},{\"default\":null,\"kind\":null,\"name\":\"notification_type\"},{\"default\":false,\"kind\":null,\"name\":\"_destroyed\"}]},{\"extends\":null,\"module\":null,\"name\":\"TemplateActions1\",\"overrides\":[],\"properties\":[{\"default\":0,\"kind\":null,\"name\":\"open_modal\"},{\"default\":0,\"kind\":null,\"name\":\"close_modal\"}]},{\"extends\":null,\"module\":null,\"name\":\"MaterialTemplateActions1\",\"overrides\":[],\"properties\":[{\"default\":0,\"kind\":null,\"name\":\"open_modal\"},{\"default\":0,\"kind\":null,\"name\":\"close_modal\"}]}],\"roots\":{\"references\":[{\"attributes\":{\"coordinates\":null,\"group\":null,\"text\":\"Safety Index\",\"text_color\":\"black\",\"text_font_size\":\"12pt\"},\"id\":\"43890\",\"type\":\"Title\"},{\"attributes\":{\"below\":[{\"id\":\"43898\"}],\"center\":[{\"id\":\"43900\"},{\"id\":\"43904\"}],\"height\":300,\"left\":[{\"id\":\"43901\"}],\"margin\":[5,5,5,5],\"min_border_bottom\":10,\"min_border_left\":10,\"min_border_right\":10,\"min_border_top\":10,\"renderers\":[{\"id\":\"43924\"}],\"sizing_mode\":\"fixed\",\"title\":{\"id\":\"43890\"},\"toolbar\":{\"id\":\"43911\"},\"width\":450,\"x_range\":{\"id\":\"43886\"},\"x_scale\":{\"id\":\"43894\"},\"y_range\":{\"id\":\"43887\"},\"y_scale\":{\"id\":\"43896\"}},\"id\":\"43889\",\"subtype\":\"Figure\",\"type\":\"Plot\"},{\"attributes\":{\"axis\":{\"id\":\"43898\"},\"coordinates\":null,\"grid_line_color\":null,\"group\":null,\"ticker\":null},\"id\":\"43900\",\"type\":\"Grid\"},{\"attributes\":{\"overlay\":{\"id\":\"43910\"}},\"id\":\"43908\",\"type\":\"BoxZoomTool\"},{\"attributes\":{\"data\":{\"Country\":[\"Switzerland\",\"Denmark\",\"Netherlands\",\"Finland\",\"Iceland\",\"Norway\",\"Germany\",\"Austria\",\"Estonia\",\"Luxembourg\"],\"Safety Index\":{\"__ndarray__\":\"uB6F61F4U0AK16NwPWpSQOxRuB6FG1JACtejcD1KUkDNzMzMzOxSQI/C9Shcn1BAH4XrUbh+T0DsUbgehUtSQNejcD0K91JAexSuR+EaUEA=\",\"dtype\":\"float64\",\"order\":\"little\",\"shape\":[10]},\"Safety_Index\":{\"__ndarray__\":\"uB6F61F4U0AK16NwPWpSQOxRuB6FG1JACtejcD1KUkDNzMzMzOxSQI/C9Shcn1BAH4XrUbh+T0DsUbgehUtSQNejcD0K91JAexSuR+EaUEA=\",\"dtype\":\"float64\",\"order\":\"little\",\"shape\":[10]}},\"selected\":{\"id\":\"43919\"},\"selection_policy\":{\"id\":\"43940\"}},\"id\":\"43918\",\"type\":\"ColumnDataSource\"},{\"attributes\":{},\"id\":\"43909\",\"type\":\"ResetTool\"},{\"attributes\":{},\"id\":\"43906\",\"type\":\"PanTool\"},{\"attributes\":{},\"id\":\"43928\",\"type\":\"CategoricalTickFormatter\"},{\"attributes\":{\"axis\":{\"id\":\"43901\"},\"coordinates\":null,\"dimension\":1,\"grid_line_color\":null,\"group\":null,\"ticker\":null},\"id\":\"43904\",\"type\":\"Grid\"},{\"attributes\":{\"axis_label\":\"Country\",\"coordinates\":null,\"formatter\":{\"id\":\"43928\"},\"group\":null,\"major_label_orientation\":0.7853981633974483,\"major_label_policy\":{\"id\":\"43929\"},\"ticker\":{\"id\":\"43899\"}},\"id\":\"43898\",\"type\":\"CategoricalAxis\"},{\"attributes\":{},\"id\":\"43919\",\"type\":\"Selection\"},{\"attributes\":{},\"id\":\"43932\",\"type\":\"AllLabels\"},{\"attributes\":{\"end\":79.369,\"reset_end\":79.369,\"reset_start\":61.501000000000005,\"start\":61.501000000000005,\"tags\":[[[\"Safety Index\",\"Safety Index\",null]]]},\"id\":\"43887\",\"type\":\"Range1d\"},{\"attributes\":{\"tools\":[{\"id\":\"43888\"},{\"id\":\"43905\"},{\"id\":\"43906\"},{\"id\":\"43907\"},{\"id\":\"43908\"},{\"id\":\"43909\"}]},\"id\":\"43911\",\"type\":\"Toolbar\"},{\"attributes\":{},\"id\":\"43929\",\"type\":\"AllLabels\"},{\"attributes\":{\"fill_color\":{\"value\":\"#30a2da\"},\"hatch_color\":{\"value\":\"#30a2da\"},\"line_color\":{\"value\":\"#30a2da\"},\"size\":{\"value\":5.477225575051661},\"x\":{\"field\":\"Country\"},\"y\":{\"field\":\"Safety Index\"}},\"id\":\"43921\",\"type\":\"Scatter\"},{\"attributes\":{\"callback\":null,\"renderers\":[{\"id\":\"43924\"}],\"tags\":[\"hv_created\"],\"tooltips\":[[\"Country\",\"@{Country}\"],[\"Safety Index\",\"@{Safety_Index}\"]]},\"id\":\"43888\",\"type\":\"HoverTool\"},{\"attributes\":{\"factors\":[\"Switzerland\",\"Denmark\",\"Netherlands\",\"Finland\",\"Iceland\",\"Norway\",\"Germany\",\"Austria\",\"Estonia\",\"Luxembourg\"],\"tags\":[[[\"Country\",\"Country\",null]]]},\"id\":\"43886\",\"type\":\"FactorRange\"},{\"attributes\":{\"axis_label\":\"Safety Index\",\"coordinates\":null,\"formatter\":{\"id\":\"43931\"},\"group\":null,\"major_label_policy\":{\"id\":\"43932\"},\"ticker\":{\"id\":\"43902\"}},\"id\":\"43901\",\"type\":\"LinearAxis\"},{\"attributes\":{\"margin\":[5,5,5,5],\"name\":\"HSpacer27503\",\"sizing_mode\":\"stretch_width\"},\"id\":\"43885\",\"type\":\"Spacer\"},{\"attributes\":{},\"id\":\"43894\",\"type\":\"CategoricalScale\"},{\"attributes\":{\"source\":{\"id\":\"43918\"}},\"id\":\"43925\",\"type\":\"CDSView\"},{\"attributes\":{\"fill_alpha\":{\"value\":0.2},\"fill_color\":{\"value\":\"#30a2da\"},\"hatch_alpha\":{\"value\":0.2},\"hatch_color\":{\"value\":\"#30a2da\"},\"line_alpha\":{\"value\":0.2},\"line_color\":{\"value\":\"#30a2da\"},\"size\":{\"value\":5.477225575051661},\"x\":{\"field\":\"Country\"},\"y\":{\"field\":\"Safety Index\"}},\"id\":\"43923\",\"type\":\"Scatter\"},{\"attributes\":{},\"id\":\"43931\",\"type\":\"BasicTickFormatter\"},{\"attributes\":{},\"id\":\"43899\",\"type\":\"CategoricalTicker\"},{\"attributes\":{\"angle\":{\"value\":0.0},\"fill_alpha\":{\"value\":1.0},\"fill_color\":{\"value\":\"#30a2da\"},\"hatch_alpha\":{\"value\":1.0},\"hatch_color\":{\"value\":\"#30a2da\"},\"hatch_scale\":{\"value\":12.0},\"hatch_weight\":{\"value\":1.0},\"line_alpha\":{\"value\":1.0},\"line_cap\":{\"value\":\"butt\"},\"line_color\":{\"value\":\"#30a2da\"},\"line_dash\":{\"value\":[]},\"line_dash_offset\":{\"value\":0},\"line_join\":{\"value\":\"bevel\"},\"line_width\":{\"value\":1},\"marker\":{\"value\":\"circle\"},\"size\":{\"value\":5.477225575051661},\"x\":{\"field\":\"Country\"},\"y\":{\"field\":\"Safety Index\"}},\"id\":\"43926\",\"type\":\"Scatter\"},{\"attributes\":{\"coordinates\":null,\"data_source\":{\"id\":\"43918\"},\"glyph\":{\"id\":\"43921\"},\"group\":null,\"hover_glyph\":null,\"muted_glyph\":{\"id\":\"43923\"},\"nonselection_glyph\":{\"id\":\"43922\"},\"selection_glyph\":{\"id\":\"43926\"},\"view\":{\"id\":\"43925\"}},\"id\":\"43924\",\"type\":\"GlyphRenderer\"},{\"attributes\":{\"margin\":[5,5,5,5],\"name\":\"HSpacer27504\",\"sizing_mode\":\"stretch_width\"},\"id\":\"43943\",\"type\":\"Spacer\"},{\"attributes\":{\"bottom_units\":\"screen\",\"coordinates\":null,\"fill_alpha\":0.5,\"fill_color\":\"lightgrey\",\"group\":null,\"left_units\":\"screen\",\"level\":\"overlay\",\"line_alpha\":1.0,\"line_color\":\"black\",\"line_dash\":[4,4],\"line_width\":2,\"right_units\":\"screen\",\"syncable\":false,\"top_units\":\"screen\"},\"id\":\"43910\",\"type\":\"BoxAnnotation\"},{\"attributes\":{\"fill_alpha\":{\"value\":0.1},\"fill_color\":{\"value\":\"#30a2da\"},\"hatch_alpha\":{\"value\":0.1},\"hatch_color\":{\"value\":\"#30a2da\"},\"line_alpha\":{\"value\":0.1},\"line_color\":{\"value\":\"#30a2da\"},\"size\":{\"value\":5.477225575051661},\"x\":{\"field\":\"Country\"},\"y\":{\"field\":\"Safety Index\"}},\"id\":\"43922\",\"type\":\"Scatter\"},{\"attributes\":{},\"id\":\"43940\",\"type\":\"UnionRenderers\"},{\"attributes\":{\"children\":[{\"id\":\"43885\"},{\"id\":\"43889\"},{\"id\":\"43943\"}],\"margin\":[0,0,0,0],\"name\":\"Row27499\",\"tags\":[\"embedded\"]},\"id\":\"43884\",\"type\":\"Row\"},{\"attributes\":{},\"id\":\"43907\",\"type\":\"WheelZoomTool\"},{\"attributes\":{},\"id\":\"43902\",\"type\":\"BasicTicker\"},{\"attributes\":{},\"id\":\"43905\",\"type\":\"SaveTool\"},{\"attributes\":{},\"id\":\"43896\",\"type\":\"LinearScale\"}],\"root_ids\":[\"43884\"]},\"title\":\"Bokeh Application\",\"version\":\"2.4.3\"}};\n",
       "    var render_items = [{\"docid\":\"96fe13b1-e693-48e8-b46e-b10d712876d6\",\"root_ids\":[\"43884\"],\"roots\":{\"43884\":\"e0152984-1ed7-4bd2-ab29-dd3c9fe28096\"}}];\n",
       "    root.Bokeh.embed.embed_items_notebook(docs_json, render_items);\n",
       "    for (const render_item of render_items) {\n",
       "      for (const root_id of render_item.root_ids) {\n",
       "\tconst id_el = document.getElementById(root_id)\n",
       "\tif (id_el.children.length && (id_el.children[0].className === 'bk-root')) {\n",
       "\t  const root_el = id_el.children[0]\n",
       "\t  root_el.id = root_el.id + '-rendered'\n",
       "\t}\n",
       "      }\n",
       "    }\n",
       "  }\n",
       "  if (root.Bokeh !== undefined && root.Bokeh.Panel !== undefined) {\n",
       "    embed_document(root);\n",
       "  } else {\n",
       "    var attempts = 0;\n",
       "    var timer = setInterval(function(root) {\n",
       "      if (root.Bokeh !== undefined && root.Bokeh.Panel !== undefined) {\n",
       "        clearInterval(timer);\n",
       "        embed_document(root);\n",
       "      } else if (document.readyState == \"complete\") {\n",
       "        attempts++;\n",
       "        if (attempts > 200) {\n",
       "          clearInterval(timer);\n",
       "          console.log(\"Bokeh: ERROR: Unable to run BokehJS code because BokehJS library is missing\");\n",
       "        }\n",
       "      }\n",
       "    }, 25, root)\n",
       "  }\n",
       "})(window);</script>"
      ],
      "text/plain": [
       ":Scatter   [Country]   (Safety Index)"
      ]
     },
     "execution_count": 642,
     "metadata": {
      "application/vnd.holoviews_exec.v0+json": {
       "id": "43884"
      }
     },
     "output_type": "execute_result"
    }
   ],
   "source": [
    "Safety_index = df.head(10).hvplot.scatter(x='Country', y='Safety Index', title='Safety Index',\n",
    "                                                        rot=45,height=300, width=450)\n",
    "Safety_index"
   ]
  },
  {
   "cell_type": "code",
   "execution_count": 643,
   "id": "ba0a1262-a0b5-4d3a-b908-f11791fb22b7",
   "metadata": {},
   "outputs": [
    {
     "data": {},
     "metadata": {},
     "output_type": "display_data"
    },
    {
     "data": {
      "application/vnd.holoviews_exec.v0+json": "",
      "text/html": [
       "<div id='43995'>\n",
       "  <div class=\"bk-root\" id=\"936637be-096e-4f5c-bc41-20819915ea6d\" data-root-id=\"43995\"></div>\n",
       "</div>\n",
       "<script type=\"application/javascript\">(function(root) {\n",
       "  function embed_document(root) {\n",
       "    var docs_json = {\"40e9f0f5-4b45-4076-a04c-db6d3df8d686\":{\"defs\":[{\"extends\":null,\"module\":null,\"name\":\"ReactiveHTML1\",\"overrides\":[],\"properties\":[]},{\"extends\":null,\"module\":null,\"name\":\"FlexBox1\",\"overrides\":[],\"properties\":[{\"default\":\"flex-start\",\"kind\":null,\"name\":\"align_content\"},{\"default\":\"flex-start\",\"kind\":null,\"name\":\"align_items\"},{\"default\":\"row\",\"kind\":null,\"name\":\"flex_direction\"},{\"default\":\"wrap\",\"kind\":null,\"name\":\"flex_wrap\"},{\"default\":\"flex-start\",\"kind\":null,\"name\":\"justify_content\"}]},{\"extends\":null,\"module\":null,\"name\":\"GridStack1\",\"overrides\":[],\"properties\":[{\"default\":\"warn\",\"kind\":null,\"name\":\"mode\"},{\"default\":null,\"kind\":null,\"name\":\"ncols\"},{\"default\":null,\"kind\":null,\"name\":\"nrows\"},{\"default\":true,\"kind\":null,\"name\":\"allow_resize\"},{\"default\":true,\"kind\":null,\"name\":\"allow_drag\"},{\"default\":[],\"kind\":null,\"name\":\"state\"}]},{\"extends\":null,\"module\":null,\"name\":\"click1\",\"overrides\":[],\"properties\":[{\"default\":\"\",\"kind\":null,\"name\":\"terminal_output\"},{\"default\":\"\",\"kind\":null,\"name\":\"debug_name\"},{\"default\":0,\"kind\":null,\"name\":\"clears\"}]},{\"extends\":null,\"module\":null,\"name\":\"NotificationAreaBase1\",\"overrides\":[],\"properties\":[{\"default\":\"bottom-right\",\"kind\":null,\"name\":\"position\"},{\"default\":0,\"kind\":null,\"name\":\"_clear\"}]},{\"extends\":null,\"module\":null,\"name\":\"NotificationArea1\",\"overrides\":[],\"properties\":[{\"default\":[],\"kind\":null,\"name\":\"notifications\"},{\"default\":\"bottom-right\",\"kind\":null,\"name\":\"position\"},{\"default\":0,\"kind\":null,\"name\":\"_clear\"},{\"default\":[{\"background\":\"#ffc107\",\"icon\":{\"className\":\"fas fa-exclamation-triangle\",\"color\":\"white\",\"tagName\":\"i\"},\"type\":\"warning\"},{\"background\":\"#007bff\",\"icon\":{\"className\":\"fas fa-info-circle\",\"color\":\"white\",\"tagName\":\"i\"},\"type\":\"info\"}],\"kind\":null,\"name\":\"types\"}]},{\"extends\":null,\"module\":null,\"name\":\"Notification\",\"overrides\":[],\"properties\":[{\"default\":null,\"kind\":null,\"name\":\"background\"},{\"default\":3000,\"kind\":null,\"name\":\"duration\"},{\"default\":null,\"kind\":null,\"name\":\"icon\"},{\"default\":\"\",\"kind\":null,\"name\":\"message\"},{\"default\":null,\"kind\":null,\"name\":\"notification_type\"},{\"default\":false,\"kind\":null,\"name\":\"_destroyed\"}]},{\"extends\":null,\"module\":null,\"name\":\"TemplateActions1\",\"overrides\":[],\"properties\":[{\"default\":0,\"kind\":null,\"name\":\"open_modal\"},{\"default\":0,\"kind\":null,\"name\":\"close_modal\"}]},{\"extends\":null,\"module\":null,\"name\":\"MaterialTemplateActions1\",\"overrides\":[],\"properties\":[{\"default\":0,\"kind\":null,\"name\":\"open_modal\"},{\"default\":0,\"kind\":null,\"name\":\"close_modal\"}]}],\"roots\":{\"references\":[{\"attributes\":{\"fill_alpha\":{\"value\":0.2},\"fill_color\":{\"value\":\"#30a2da\"},\"hatch_alpha\":{\"value\":0.2},\"hatch_color\":{\"value\":\"#30a2da\"},\"line_alpha\":{\"value\":0.2},\"top\":{\"field\":\"Health_Care_Index\"},\"width\":{\"value\":0.8},\"x\":{\"field\":\"Country\"}},\"id\":\"44034\",\"type\":\"VBar\"},{\"attributes\":{},\"id\":\"44040\",\"type\":\"AllLabels\"},{\"attributes\":{\"axis\":{\"id\":\"44009\"},\"coordinates\":null,\"grid_line_color\":null,\"group\":null,\"ticker\":null},\"id\":\"44011\",\"type\":\"Grid\"},{\"attributes\":{\"fill_alpha\":{\"value\":0.1},\"fill_color\":{\"value\":\"#30a2da\"},\"hatch_alpha\":{\"value\":0.1},\"hatch_color\":{\"value\":\"#30a2da\"},\"line_alpha\":{\"value\":0.1},\"top\":{\"field\":\"Health_Care_Index\"},\"width\":{\"value\":0.8},\"x\":{\"field\":\"Country\"}},\"id\":\"44033\",\"type\":\"VBar\"},{\"attributes\":{},\"id\":\"44013\",\"type\":\"BasicTicker\"},{\"attributes\":{\"axis\":{\"id\":\"44012\"},\"coordinates\":null,\"dimension\":1,\"grid_line_color\":null,\"group\":null,\"ticker\":null},\"id\":\"44015\",\"type\":\"Grid\"},{\"attributes\":{\"below\":[{\"id\":\"44009\"}],\"center\":[{\"id\":\"44011\"},{\"id\":\"44015\"}],\"height\":300,\"left\":[{\"id\":\"44012\"}],\"margin\":[5,5,5,5],\"min_border_bottom\":10,\"min_border_left\":10,\"min_border_right\":10,\"min_border_top\":10,\"renderers\":[{\"id\":\"44035\"}],\"sizing_mode\":\"fixed\",\"title\":{\"id\":\"44001\"},\"toolbar\":{\"id\":\"44022\"},\"width\":450,\"x_range\":{\"id\":\"43997\"},\"x_scale\":{\"id\":\"44005\"},\"y_range\":{\"id\":\"43998\"},\"y_scale\":{\"id\":\"44007\"}},\"id\":\"44000\",\"subtype\":\"Figure\",\"type\":\"Plot\"},{\"attributes\":{\"end\":81.086,\"reset_end\":81.086,\"reset_start\":0.0,\"tags\":[[[\"Health Care Index\",\"Health Care Index\",null]]]},\"id\":\"43998\",\"type\":\"Range1d\"},{\"attributes\":{\"coordinates\":null,\"data_source\":{\"id\":\"44029\"},\"glyph\":{\"id\":\"44032\"},\"group\":null,\"hover_glyph\":null,\"muted_glyph\":{\"id\":\"44034\"},\"nonselection_glyph\":{\"id\":\"44033\"},\"selection_glyph\":{\"id\":\"44037\"},\"view\":{\"id\":\"44036\"}},\"id\":\"44035\",\"type\":\"GlyphRenderer\"},{\"attributes\":{\"margin\":[5,5,5,5],\"name\":\"HSpacer27621\",\"sizing_mode\":\"stretch_width\"},\"id\":\"44054\",\"type\":\"Spacer\"},{\"attributes\":{\"fill_color\":{\"value\":\"#30a2da\"},\"hatch_color\":{\"value\":\"#30a2da\"},\"top\":{\"field\":\"Health_Care_Index\"},\"width\":{\"value\":0.8},\"x\":{\"field\":\"Country\"}},\"id\":\"44032\",\"type\":\"VBar\"},{\"attributes\":{\"factors\":[\"Switzerland\",\"Denmark\",\"Netherlands\",\"Finland\",\"Iceland\",\"Norway\",\"Germany\",\"Austria\",\"Estonia\",\"Luxembourg\"],\"tags\":[[[\"Country\",\"Country\",null]]]},\"id\":\"43997\",\"type\":\"FactorRange\"},{\"attributes\":{\"callback\":null,\"renderers\":[{\"id\":\"44035\"}],\"tags\":[\"hv_created\"],\"tooltips\":[[\"Country\",\"@{Country}\"],[\"Health Care Index\",\"@{Health_Care_Index}\"]]},\"id\":\"43999\",\"type\":\"HoverTool\"},{\"attributes\":{\"source\":{\"id\":\"44029\"}},\"id\":\"44036\",\"type\":\"CDSView\"},{\"attributes\":{},\"id\":\"44051\",\"type\":\"UnionRenderers\"},{\"attributes\":{},\"id\":\"44005\",\"type\":\"CategoricalScale\"},{\"attributes\":{},\"id\":\"44017\",\"type\":\"PanTool\"},{\"attributes\":{},\"id\":\"44007\",\"type\":\"LinearScale\"},{\"attributes\":{\"bottom\":{\"value\":0},\"fill_alpha\":{\"value\":1.0},\"fill_color\":{\"value\":\"#30a2da\"},\"hatch_alpha\":{\"value\":1.0},\"hatch_color\":{\"value\":\"#30a2da\"},\"hatch_scale\":{\"value\":12.0},\"hatch_weight\":{\"value\":1.0},\"line_alpha\":{\"value\":1.0},\"line_cap\":{\"value\":\"butt\"},\"line_color\":{\"value\":\"black\"},\"line_dash\":{\"value\":[]},\"line_dash_offset\":{\"value\":0},\"line_join\":{\"value\":\"bevel\"},\"line_width\":{\"value\":1},\"top\":{\"field\":\"Health_Care_Index\"},\"width\":{\"value\":0.8},\"x\":{\"field\":\"Country\"}},\"id\":\"44037\",\"type\":\"VBar\"},{\"attributes\":{},\"id\":\"44042\",\"type\":\"BasicTickFormatter\"},{\"attributes\":{},\"id\":\"44010\",\"type\":\"CategoricalTicker\"},{\"attributes\":{},\"id\":\"44018\",\"type\":\"WheelZoomTool\"},{\"attributes\":{\"overlay\":{\"id\":\"44021\"}},\"id\":\"44019\",\"type\":\"BoxZoomTool\"},{\"attributes\":{\"children\":[{\"id\":\"43996\"},{\"id\":\"44000\"},{\"id\":\"44054\"}],\"margin\":[0,0,0,0],\"name\":\"Row27616\",\"tags\":[\"embedded\"]},\"id\":\"43995\",\"type\":\"Row\"},{\"attributes\":{},\"id\":\"44016\",\"type\":\"SaveTool\"},{\"attributes\":{\"tools\":[{\"id\":\"43999\"},{\"id\":\"44016\"},{\"id\":\"44017\"},{\"id\":\"44018\"},{\"id\":\"44019\"},{\"id\":\"44020\"}]},\"id\":\"44022\",\"type\":\"Toolbar\"},{\"attributes\":{},\"id\":\"44030\",\"type\":\"Selection\"},{\"attributes\":{\"bottom_units\":\"screen\",\"coordinates\":null,\"fill_alpha\":0.5,\"fill_color\":\"lightgrey\",\"group\":null,\"left_units\":\"screen\",\"level\":\"overlay\",\"line_alpha\":1.0,\"line_color\":\"black\",\"line_dash\":[4,4],\"line_width\":2,\"right_units\":\"screen\",\"syncable\":false,\"top_units\":\"screen\"},\"id\":\"44021\",\"type\":\"BoxAnnotation\"},{\"attributes\":{},\"id\":\"44020\",\"type\":\"ResetTool\"},{\"attributes\":{\"coordinates\":null,\"group\":null,\"text\":\"Health Care Index\",\"text_color\":\"black\",\"text_font_size\":\"12pt\"},\"id\":\"44001\",\"type\":\"Title\"},{\"attributes\":{},\"id\":\"44043\",\"type\":\"AllLabels\"},{\"attributes\":{\"axis_label\":\"Country\",\"coordinates\":null,\"formatter\":{\"id\":\"44039\"},\"group\":null,\"major_label_orientation\":0.7853981633974483,\"major_label_policy\":{\"id\":\"44040\"},\"ticker\":{\"id\":\"44010\"}},\"id\":\"44009\",\"type\":\"CategoricalAxis\"},{\"attributes\":{\"axis_label\":\"Health Care Index\",\"coordinates\":null,\"formatter\":{\"id\":\"44042\"},\"group\":null,\"major_label_policy\":{\"id\":\"44043\"},\"ticker\":{\"id\":\"44013\"}},\"id\":\"44012\",\"type\":\"LinearAxis\"},{\"attributes\":{\"data\":{\"Country\":[\"Switzerland\",\"Denmark\",\"Netherlands\",\"Finland\",\"Iceland\",\"Norway\",\"Germany\",\"Austria\",\"Estonia\",\"Luxembourg\"],\"Health_Care_Index\":{\"__ndarray__\":\"FK5H4XrUUkDhehSuR/FTQOxRuB6F+1JAAAAAAAAwU0DXo3A9CqdQQIXrUbgeRVNAzczMzMwcUkBcj8L1KAxTQEjhehSud1JAw/UoXI/iUUA=\",\"dtype\":\"float64\",\"order\":\"little\",\"shape\":[10]}},\"selected\":{\"id\":\"44030\"},\"selection_policy\":{\"id\":\"44051\"}},\"id\":\"44029\",\"type\":\"ColumnDataSource\"},{\"attributes\":{},\"id\":\"44039\",\"type\":\"CategoricalTickFormatter\"},{\"attributes\":{\"margin\":[5,5,5,5],\"name\":\"HSpacer27620\",\"sizing_mode\":\"stretch_width\"},\"id\":\"43996\",\"type\":\"Spacer\"}],\"root_ids\":[\"43995\"]},\"title\":\"Bokeh Application\",\"version\":\"2.4.3\"}};\n",
       "    var render_items = [{\"docid\":\"40e9f0f5-4b45-4076-a04c-db6d3df8d686\",\"root_ids\":[\"43995\"],\"roots\":{\"43995\":\"936637be-096e-4f5c-bc41-20819915ea6d\"}}];\n",
       "    root.Bokeh.embed.embed_items_notebook(docs_json, render_items);\n",
       "    for (const render_item of render_items) {\n",
       "      for (const root_id of render_item.root_ids) {\n",
       "\tconst id_el = document.getElementById(root_id)\n",
       "\tif (id_el.children.length && (id_el.children[0].className === 'bk-root')) {\n",
       "\t  const root_el = id_el.children[0]\n",
       "\t  root_el.id = root_el.id + '-rendered'\n",
       "\t}\n",
       "      }\n",
       "    }\n",
       "  }\n",
       "  if (root.Bokeh !== undefined && root.Bokeh.Panel !== undefined) {\n",
       "    embed_document(root);\n",
       "  } else {\n",
       "    var attempts = 0;\n",
       "    var timer = setInterval(function(root) {\n",
       "      if (root.Bokeh !== undefined && root.Bokeh.Panel !== undefined) {\n",
       "        clearInterval(timer);\n",
       "        embed_document(root);\n",
       "      } else if (document.readyState == \"complete\") {\n",
       "        attempts++;\n",
       "        if (attempts > 200) {\n",
       "          clearInterval(timer);\n",
       "          console.log(\"Bokeh: ERROR: Unable to run BokehJS code because BokehJS library is missing\");\n",
       "        }\n",
       "      }\n",
       "    }, 25, root)\n",
       "  }\n",
       "})(window);</script>"
      ],
      "text/plain": [
       ":Bars   [Country]   (Health Care Index)"
      ]
     },
     "execution_count": 643,
     "metadata": {
      "application/vnd.holoviews_exec.v0+json": {
       "id": "43995"
      }
     },
     "output_type": "execute_result"
    }
   ],
   "source": [
    "health_care_index = df.head(10).hvplot.bar(x='Country', y='Health Care Index', title='Health Care Index',\n",
    "                                       rot=45,height=300, width=450)\n",
    "health_care_index"
   ]
  },
  {
   "cell_type": "code",
   "execution_count": 644,
   "id": "fda71f4d-db4c-42cc-bb8d-b3737402be1a",
   "metadata": {},
   "outputs": [],
   "source": [
    "layout[1][1] = Quality_of_Life_Index\n",
    "layout[1][2] = Cost_of_Living_Index\n",
    "layout[2][1] = Safety_index\n",
    "layout[2][2] = health_care_index"
   ]
  },
  {
   "cell_type": "code",
   "execution_count": 645,
   "id": "e21be905",
   "metadata": {},
   "outputs": [],
   "source": [
    "layout = pn.template.FastListTemplate(title='Cost of Living & Quality of Life Index 2022', main=[pn.Row(pn.Column(layout))])"
   ]
  },
  {
   "cell_type": "code",
   "execution_count": 646,
   "id": "b134d2f8-2b3b-4d5b-b3fb-aae48a649a26",
   "metadata": {},
   "outputs": [
    {
     "name": "stdout",
     "output_type": "stream",
     "text": [
      "Launching server at http://localhost:13709\n"
     ]
    },
    {
     "data": {
      "text/plain": [
       "<panel.io.server.Server at 0x1bf3ff2d490>"
      ]
     },
     "execution_count": 646,
     "metadata": {},
     "output_type": "execute_result"
    }
   ],
   "source": [
    "layout.show()"
   ]
  },
  {
   "cell_type": "code",
   "execution_count": 657,
   "id": "23f24a07",
   "metadata": {},
   "outputs": [],
   "source": [
    "layout.save(filename = 'template_embed.html')"
   ]
  },
  {
   "cell_type": "code",
   "execution_count": null,
   "id": "6f59eca9",
   "metadata": {},
   "outputs": [],
   "source": []
  },
  {
   "cell_type": "code",
   "execution_count": null,
   "id": "4a2a26a4-3594-4bf2-a639-1c8f7987e7be",
   "metadata": {},
   "outputs": [],
   "source": []
  },
  {
   "cell_type": "code",
   "execution_count": null,
   "id": "6f763794",
   "metadata": {},
   "outputs": [],
   "source": []
  },
  {
   "cell_type": "code",
   "execution_count": null,
   "id": "07afa991",
   "metadata": {},
   "outputs": [],
   "source": []
  },
  {
   "cell_type": "code",
   "execution_count": null,
   "id": "2c2fc25d",
   "metadata": {},
   "outputs": [],
   "source": []
  },
  {
   "cell_type": "code",
   "execution_count": null,
   "id": "f755b147",
   "metadata": {},
   "outputs": [],
   "source": []
  },
  {
   "cell_type": "code",
   "execution_count": null,
   "id": "42cadc6e",
   "metadata": {},
   "outputs": [],
   "source": []
  },
  {
   "cell_type": "code",
   "execution_count": null,
   "id": "89dc0448",
   "metadata": {},
   "outputs": [],
   "source": []
  },
  {
   "cell_type": "code",
   "execution_count": null,
   "id": "9a2386ba",
   "metadata": {},
   "outputs": [],
   "source": []
  }
 ],
 "metadata": {
  "kernelspec": {
   "display_name": "Python 3 (ipykernel)",
   "language": "python",
   "name": "python3"
  },
  "language_info": {
   "codemirror_mode": {
    "name": "ipython",
    "version": 3
   },
   "file_extension": ".py",
   "mimetype": "text/x-python",
   "name": "python",
   "nbconvert_exporter": "python",
   "pygments_lexer": "ipython3",
   "version": "3.9.15"
  }
 },
 "nbformat": 4,
 "nbformat_minor": 5
}
